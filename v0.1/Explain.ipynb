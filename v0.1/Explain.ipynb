{
 "cells": [
  {
   "cell_type": "markdown",
   "metadata": {},
   "source": [
    "Task 2"
   ]
  },
  {
   "cell_type": "markdown",
   "metadata": {},
   "source": [
    "Loading data + debugging"
   ]
  },
  {
   "cell_type": "code",
   "execution_count": 12,
   "metadata": {},
   "outputs": [
    {
     "name": "stdout",
     "output_type": "stream",
     "text": [
      "Loading data from: process2.csv\n"
     ]
    },
    {
     "data": {
      "text/html": [
       "<div>\n",
       "<style scoped>\n",
       "    .dataframe tbody tr th:only-of-type {\n",
       "        vertical-align: middle;\n",
       "    }\n",
       "\n",
       "    .dataframe tbody tr th {\n",
       "        vertical-align: top;\n",
       "    }\n",
       "\n",
       "    .dataframe thead th {\n",
       "        text-align: right;\n",
       "    }\n",
       "</style>\n",
       "<table border=\"1\" class=\"dataframe\">\n",
       "  <thead>\n",
       "    <tr style=\"text-align: right;\">\n",
       "      <th></th>\n",
       "      <th>Line</th>\n",
       "      <th>Direction</th>\n",
       "      <th>Station from (A)</th>\n",
       "      <th>Station to (B)</th>\n",
       "      <th>Distance (Kms)</th>\n",
       "      <th>Un-impeded Running Time (Mins)</th>\n",
       "      <th>AM peak (0700-1000) Running Time (Mins)</th>\n",
       "      <th>Inter peak (1000 - 1600) Running time (mins)</th>\n",
       "    </tr>\n",
       "  </thead>\n",
       "  <tbody>\n",
       "    <tr>\n",
       "      <th>0</th>\n",
       "      <td>Bakerloo</td>\n",
       "      <td>Southbound</td>\n",
       "      <td>HARROW &amp; WEALDSTONE</td>\n",
       "      <td>KENTON</td>\n",
       "      <td>1.74</td>\n",
       "      <td>2.23</td>\n",
       "      <td>2.50</td>\n",
       "      <td>2.50</td>\n",
       "    </tr>\n",
       "    <tr>\n",
       "      <th>1</th>\n",
       "      <td>Bakerloo</td>\n",
       "      <td>Southbound</td>\n",
       "      <td>KENTON</td>\n",
       "      <td>SOUTH KENTON</td>\n",
       "      <td>1.40</td>\n",
       "      <td>1.88</td>\n",
       "      <td>2.00</td>\n",
       "      <td>2.00</td>\n",
       "    </tr>\n",
       "    <tr>\n",
       "      <th>2</th>\n",
       "      <td>Bakerloo</td>\n",
       "      <td>Southbound</td>\n",
       "      <td>SOUTH KENTON</td>\n",
       "      <td>NORTH WEMBLEY</td>\n",
       "      <td>0.90</td>\n",
       "      <td>1.50</td>\n",
       "      <td>1.50</td>\n",
       "      <td>1.50</td>\n",
       "    </tr>\n",
       "    <tr>\n",
       "      <th>3</th>\n",
       "      <td>Bakerloo</td>\n",
       "      <td>Southbound</td>\n",
       "      <td>NORTH WEMBLEY</td>\n",
       "      <td>WEMBLEY CENTRAL</td>\n",
       "      <td>1.27</td>\n",
       "      <td>1.92</td>\n",
       "      <td>2.06</td>\n",
       "      <td>2.06</td>\n",
       "    </tr>\n",
       "    <tr>\n",
       "      <th>4</th>\n",
       "      <td>Bakerloo</td>\n",
       "      <td>Southbound</td>\n",
       "      <td>WEMBLEY CENTRAL</td>\n",
       "      <td>STONEBRIDGE PARK</td>\n",
       "      <td>1.71</td>\n",
       "      <td>2.23</td>\n",
       "      <td>3.13</td>\n",
       "      <td>3.13</td>\n",
       "    </tr>\n",
       "  </tbody>\n",
       "</table>\n",
       "</div>"
      ],
      "text/plain": [
       "        Line   Direction     Station from (A)    Station to (B)  \\\n",
       "0  Bakerloo   Southbound  HARROW & WEALDSTONE            KENTON   \n",
       "1  Bakerloo   Southbound               KENTON      SOUTH KENTON   \n",
       "2  Bakerloo   Southbound         SOUTH KENTON     NORTH WEMBLEY   \n",
       "3  Bakerloo   Southbound        NORTH WEMBLEY   WEMBLEY CENTRAL   \n",
       "4  Bakerloo   Southbound      WEMBLEY CENTRAL  STONEBRIDGE PARK   \n",
       "\n",
       "   Distance (Kms)  Un-impeded Running Time (Mins)  \\\n",
       "0            1.74                            2.23   \n",
       "1            1.40                            1.88   \n",
       "2            0.90                            1.50   \n",
       "3            1.27                            1.92   \n",
       "4            1.71                            2.23   \n",
       "\n",
       "   AM peak (0700-1000) Running Time (Mins)  \\\n",
       "0                                     2.50   \n",
       "1                                     2.00   \n",
       "2                                     1.50   \n",
       "3                                     2.06   \n",
       "4                                     3.13   \n",
       "\n",
       "   Inter peak (1000 - 1600) Running time (mins)  \n",
       "0                                          2.50  \n",
       "1                                          2.00  \n",
       "2                                          1.50  \n",
       "3                                          2.06  \n",
       "4                                          3.13  "
      ]
     },
     "metadata": {},
     "output_type": "display_data"
    }
   ],
   "source": [
    "from IPython.display import display\n",
    "import pandas as pd\n",
    "\n",
    "# Load the data from the CSV file for road distances\n",
    "file_path = 'process2.csv'\n",
    "print(f\"Loading data from: {file_path}\")\n",
    "data = pd.read_csv(file_path, encoding='latin1')\n",
    "\n",
    "# Display the first few rows of the data\n",
    "display(data.head())"
   ]
  },
  {
   "cell_type": "markdown",
   "metadata": {},
   "source": [
    "Loading Station Coordinates + debugging"
   ]
  },
  {
   "cell_type": "code",
   "execution_count": 13,
   "metadata": {},
   "outputs": [
    {
     "name": "stdout",
     "output_type": "stream",
     "text": [
      "Loading coordinates from: stations.csv\n"
     ]
    },
    {
     "data": {
      "text/html": [
       "<div>\n",
       "<style scoped>\n",
       "    .dataframe tbody tr th:only-of-type {\n",
       "        vertical-align: middle;\n",
       "    }\n",
       "\n",
       "    .dataframe tbody tr th {\n",
       "        vertical-align: top;\n",
       "    }\n",
       "\n",
       "    .dataframe thead th {\n",
       "        text-align: right;\n",
       "    }\n",
       "</style>\n",
       "<table border=\"1\" class=\"dataframe\">\n",
       "  <thead>\n",
       "    <tr style=\"text-align: right;\">\n",
       "      <th></th>\n",
       "      <th>Station</th>\n",
       "      <th>OS X</th>\n",
       "      <th>OS Y</th>\n",
       "      <th>Latitude</th>\n",
       "      <th>Longitude</th>\n",
       "      <th>Zone</th>\n",
       "      <th>Postcode</th>\n",
       "    </tr>\n",
       "  </thead>\n",
       "  <tbody>\n",
       "    <tr>\n",
       "      <th>0</th>\n",
       "      <td>ABBEY ROAD</td>\n",
       "      <td>539081</td>\n",
       "      <td>183352</td>\n",
       "      <td>51.531952</td>\n",
       "      <td>0.003723</td>\n",
       "      <td>3</td>\n",
       "      <td>E15 3NB</td>\n",
       "    </tr>\n",
       "    <tr>\n",
       "      <th>1</th>\n",
       "      <td>ABBEY WOOD</td>\n",
       "      <td>547297</td>\n",
       "      <td>179002</td>\n",
       "      <td>51.490784</td>\n",
       "      <td>0.120272</td>\n",
       "      <td>4</td>\n",
       "      <td>SE2 9RH</td>\n",
       "    </tr>\n",
       "    <tr>\n",
       "      <th>2</th>\n",
       "      <td>ACTON CENTRAL</td>\n",
       "      <td>520613</td>\n",
       "      <td>180299</td>\n",
       "      <td>51.508757</td>\n",
       "      <td>-0.263430</td>\n",
       "      <td>2</td>\n",
       "      <td>W3 6BH</td>\n",
       "    </tr>\n",
       "    <tr>\n",
       "      <th>3</th>\n",
       "      <td>ACTON MAIN LINE</td>\n",
       "      <td>520296</td>\n",
       "      <td>181196</td>\n",
       "      <td>51.516886</td>\n",
       "      <td>-0.267690</td>\n",
       "      <td>3</td>\n",
       "      <td>W3 9EH</td>\n",
       "    </tr>\n",
       "    <tr>\n",
       "      <th>4</th>\n",
       "      <td>ACTON TOWN</td>\n",
       "      <td>519457</td>\n",
       "      <td>179639</td>\n",
       "      <td>51.503071</td>\n",
       "      <td>-0.280303</td>\n",
       "      <td>3</td>\n",
       "      <td>W3 8HN</td>\n",
       "    </tr>\n",
       "  </tbody>\n",
       "</table>\n",
       "</div>"
      ],
      "text/plain": [
       "           Station    OS X    OS Y   Latitude  Longitude Zone Postcode\n",
       "0       ABBEY ROAD  539081  183352  51.531952   0.003723    3  E15 3NB\n",
       "1       ABBEY WOOD  547297  179002  51.490784   0.120272    4  SE2 9RH\n",
       "2    ACTON CENTRAL  520613  180299  51.508757  -0.263430    2   W3 6BH\n",
       "3  ACTON MAIN LINE  520296  181196  51.516886  -0.267690    3   W3 9EH\n",
       "4       ACTON TOWN  519457  179639  51.503071  -0.280303    3   W3 8HN"
      ]
     },
     "metadata": {},
     "output_type": "display_data"
    }
   ],
   "source": [
    "# Load station coordinates \n",
    "coordinates_file = 'stations.csv'\n",
    "print(f\"Loading coordinates from: {coordinates_file}\")\n",
    "coordinates_data = pd.read_csv(coordinates_file)\n",
    "\n",
    "# Display the first few rows of the coordinates data\n",
    "display(coordinates_data.head())\n"
   ]
  },
  {
   "cell_type": "markdown",
   "metadata": {},
   "source": [
    "Creating Graph and Adding Nodes and Edges:"
   ]
  },
  {
   "cell_type": "code",
   "execution_count": 14,
   "metadata": {},
   "outputs": [],
   "source": [
    "import networkx as nx\n",
    "\n",
    "# Create a graph\n",
    "G = nx.Graph()\n",
    "\n",
    "# Add edges and distances\n",
    "for _, row in data.iterrows():\n",
    "    G.add_edge(row['Station from (A)'], row['Station to (B)'], weight=row['Distance (Kms)'], line=row['Line'])"
   ]
  },
  {
   "cell_type": "markdown",
   "metadata": {},
   "source": [
    "Mapping Station Coordinates to Node Positions:"
   ]
  },
  {
   "cell_type": "code",
   "execution_count": 18,
   "metadata": {},
   "outputs": [],
   "source": [
    "# Create a dictionary of station coordinates\n",
    "station_coordinates = {}\n",
    "for _, row in coordinates_data.iterrows():\n",
    "    station_coordinates[row['Station']] = (row['Longitude'], row['Latitude'])\n",
    "default_position = (0, 0)  \n"
   ]
  },
  {
   "cell_type": "markdown",
   "metadata": {},
   "source": [
    "Visualizing the Graph:"
   ]
  },
  {
   "cell_type": "code",
   "execution_count": 19,
   "metadata": {},
   "outputs": [
    {
     "ename": "NameError",
     "evalue": "name 'pos' is not defined",
     "output_type": "error",
     "traceback": [
      "\u001b[1;31m---------------------------------------------------------------------------\u001b[0m",
      "\u001b[1;31mNameError\u001b[0m                                 Traceback (most recent call last)",
      "Cell \u001b[1;32mIn[19], line 13\u001b[0m\n\u001b[0;32m     11\u001b[0m     line_data \u001b[38;5;241m=\u001b[39m data[data[\u001b[38;5;124m'\u001b[39m\u001b[38;5;124mLine\u001b[39m\u001b[38;5;124m'\u001b[39m] \u001b[38;5;241m==\u001b[39m line]\n\u001b[0;32m     12\u001b[0m     edges \u001b[38;5;241m=\u001b[39m [(row[\u001b[38;5;124m'\u001b[39m\u001b[38;5;124mStation from (A)\u001b[39m\u001b[38;5;124m'\u001b[39m], row[\u001b[38;5;124m'\u001b[39m\u001b[38;5;124mStation to (B)\u001b[39m\u001b[38;5;124m'\u001b[39m]) \u001b[38;5;28;01mfor\u001b[39;00m _, row \u001b[38;5;129;01min\u001b[39;00m line_data\u001b[38;5;241m.\u001b[39miterrows()]\n\u001b[1;32m---> 13\u001b[0m     nx\u001b[38;5;241m.\u001b[39mdraw_networkx_edges(G, \u001b[43mpos\u001b[49m, edgelist\u001b[38;5;241m=\u001b[39medges, edge_color\u001b[38;5;241m=\u001b[39mline_colors[i], width\u001b[38;5;241m=\u001b[39m\u001b[38;5;241m2\u001b[39m, label\u001b[38;5;241m=\u001b[39m\u001b[38;5;124mf\u001b[39m\u001b[38;5;124m'\u001b[39m\u001b[38;5;132;01m{\u001b[39;00mline\u001b[38;5;132;01m}\u001b[39;00m\u001b[38;5;124m Line\u001b[39m\u001b[38;5;124m'\u001b[39m)\n\u001b[0;32m     15\u001b[0m \u001b[38;5;66;03m# Draw the nodes\u001b[39;00m\n\u001b[0;32m     16\u001b[0m nx\u001b[38;5;241m.\u001b[39mdraw_networkx_nodes(G, pos, node_size\u001b[38;5;241m=\u001b[39m\u001b[38;5;241m100\u001b[39m, node_color\u001b[38;5;241m=\u001b[39m\u001b[38;5;124m'\u001b[39m\u001b[38;5;124mlightblue\u001b[39m\u001b[38;5;124m'\u001b[39m)\n",
      "\u001b[1;31mNameError\u001b[0m: name 'pos' is not defined"
     ]
    },
    {
     "data": {
      "text/plain": [
       "<Figure size 1200x800 with 0 Axes>"
      ]
     },
     "metadata": {},
     "output_type": "display_data"
    }
   ],
   "source": [
    "import matplotlib.pyplot as plt\n",
    "\n",
    "# Define colors for each line\n",
    "unique_lines = data['Line'].unique()\n",
    "line_colors = plt.cm.tab10.colors[:len(unique_lines)]  # Using a colormap to automatically assign colors\n",
    "\n",
    "# Draw the graph with edges colored by line\n",
    "plt.figure(figsize=(12, 8))\n",
    "\n",
    "for i, line in enumerate(unique_lines):\n",
    "    line_data = data[data['Line'] == line]\n",
    "    edges = [(row['Station from (A)'], row['Station to (B)']) for _, row in line_data.iterrows()]\n",
    "    nx.draw_networkx_edges(G, pos, edgelist=edges, edge_color=line_colors[i], width=2, label=f'{line} Line')\n",
    "\n",
    "# Draw the nodes\n",
    "nx.draw_networkx_nodes(G, pos, node_size=100, node_color='lightblue')\n",
    "\n",
    "# Draw node labels with adjusted alignments\n",
    "for node, (x, y) in pos.items():\n",
    "    plt.text(x, y, node, fontsize=5, ha='center', va='center', fontweight='bold')\n",
    "\n",
    "# Draw the edge labels\n",
    "edge_labels = {(row['Station from (A)'], row['Station to (B)']): row['Distance (Kms)'] for _, row in data.iterrows()}\n",
    "nx.draw_networkx_edge_labels(G, pos, edge_labels=edge_labels, font_size=8, font_color='black')\n",
    "\n",
    "# Add legend and title\n",
    "plt.legend(scatterpoints=1, loc='lower right', ncol=1, fontsize=10)\n",
    "plt.title('London Underground Network')\n",
    "\n",
    "# Display the plot\n",
    "plt.show()\n"
   ]
  },
  {
   "cell_type": "code",
   "execution_count": 1,
   "metadata": {},
   "outputs": [
    {
     "ename": "NameError",
     "evalue": "name 'data' is not defined",
     "output_type": "error",
     "traceback": [
      "\u001b[1;31m---------------------------------------------------------------------------\u001b[0m",
      "\u001b[1;31mNameError\u001b[0m                                 Traceback (most recent call last)",
      "Cell \u001b[1;32mIn[1], line 2\u001b[0m\n\u001b[0;32m      1\u001b[0m \u001b[38;5;66;03m# Calculate total length of the transport network\u001b[39;00m\n\u001b[1;32m----> 2\u001b[0m total_length \u001b[38;5;241m=\u001b[39m \u001b[38;5;28msum\u001b[39m(\u001b[43mdata\u001b[49m[\u001b[38;5;124m'\u001b[39m\u001b[38;5;124mDistance (Kms)\u001b[39m\u001b[38;5;124m'\u001b[39m])\n\u001b[0;32m      4\u001b[0m \u001b[38;5;66;03m# Calculate average distance between the stations\u001b[39;00m\n\u001b[0;32m      5\u001b[0m average_distance \u001b[38;5;241m=\u001b[39m total_length \u001b[38;5;241m/\u001b[39m \u001b[38;5;28mlen\u001b[39m(data)\n",
      "\u001b[1;31mNameError\u001b[0m: name 'data' is not defined"
     ]
    }
   ],
   "source": [
    "# Calculate total length of the transport network\n",
    "total_length = sum(data['Distance (Kms)'])\n",
    "\n",
    "# Calculate average distance between the stations\n",
    "average_distance = total_length / len(data)\n",
    "\n",
    "# Calculate standard deviation of the distances between the stations\n",
    "distances_list = data['Distance (Kms)'].tolist()\n",
    "standard_deviation = np.std(distances_list)\n",
    "\n",
    "# Print the results\n",
    "print(\"Total length of the transport network:\", total_length)\n",
    "print(\"Average distance between the stations:\", average_distance)\n",
    "print(\"Standard deviation of the distances between the stations:\", standard_deviation)\n"
   ]
  }
 ],
 "metadata": {
  "kernelspec": {
   "display_name": "env",
   "language": "python",
   "name": "python3"
  },
  "language_info": {
   "codemirror_mode": {
    "name": "ipython",
    "version": 3
   },
   "file_extension": ".py",
   "mimetype": "text/x-python",
   "name": "python",
   "nbconvert_exporter": "python",
   "pygments_lexer": "ipython3",
   "version": "3.12.4"
  }
 },
 "nbformat": 4,
 "nbformat_minor": 2
}
